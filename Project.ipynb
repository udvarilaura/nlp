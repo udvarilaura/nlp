{
 "metadata": {
  "language_info": {
   "codemirror_mode": {
    "name": "ipython",
    "version": 3
   },
   "file_extension": ".py",
   "mimetype": "text/x-python",
   "name": "python",
   "nbconvert_exporter": "python",
   "pygments_lexer": "ipython3",
   "version": "3.9.1"
  },
  "orig_nbformat": 2,
  "kernelspec": {
   "name": "python391jvsc74a57bd063fd5069d213b44bf678585dea6b12cceca9941eaf7f819626cde1f2670de90d",
   "display_name": "Python 3.9.1 64-bit"
  },
  "metadata": {
   "interpreter": {
    "hash": "63fd5069d213b44bf678585dea6b12cceca9941eaf7f819626cde1f2670de90d"
   }
  }
 },
 "nbformat": 4,
 "nbformat_minor": 2,
 "cells": [
  {
   "source": [
    "# Adathalmaz inportálása, szükséges oszlopok kiszedése, módosítása"
   ],
   "cell_type": "markdown",
   "metadata": {}
  },
  {
   "source": [
    "import numpy as np\n",
    "import pandas as pd"
   ],
   "cell_type": "code",
   "metadata": {},
   "execution_count": 2,
   "outputs": []
  },
  {
   "cell_type": "code",
   "execution_count": 3,
   "metadata": {},
   "outputs": [
    {
     "output_type": "execute_result",
     "data": {
      "text/plain": [
       "   Unnamed: 0        asin helpful  overall  \\\n",
       "0           0  B000F83SZQ  [0, 0]        5   \n",
       "1           1  B000F83SZQ  [2, 2]        4   \n",
       "2           2  B000F83SZQ  [2, 2]        4   \n",
       "3           3  B000F83SZQ  [1, 1]        5   \n",
       "4           4  B000F83SZQ  [0, 1]        4   \n",
       "\n",
       "                                          reviewText   reviewTime  \\\n",
       "0  I enjoy vintage books and movies so I enjoyed ...   05 5, 2014   \n",
       "1  This book is a reissue of an old one; the auth...   01 6, 2014   \n",
       "2  This was a fairly interesting read.  It had ol...   04 4, 2014   \n",
       "3  I'd never read any of the Amy Brewster mysteri...  02 19, 2014   \n",
       "4  If you like period pieces - clothing, lingo, y...  03 19, 2014   \n",
       "\n",
       "       reviewerID                         reviewerName             summary  \\\n",
       "0  A1F6404F1VG29J                           Avidreader  Nice vintage story   \n",
       "1   AN0N05A9LIJEQ                             critters        Different...   \n",
       "2   A795DMNCJILA6                                  dot               Oldie   \n",
       "3  A1FV0SX13TWVXQ  Elaine H. Turley \"Montana Songbird\"  I really liked it.   \n",
       "4  A3SPTOKDG7WBLN                   Father Dowling Fan      Period Mystery   \n",
       "\n",
       "   unixReviewTime  \n",
       "0      1399248000  \n",
       "1      1388966400  \n",
       "2      1396569600  \n",
       "3      1392768000  \n",
       "4      1395187200  "
      ],
      "text/html": "<div>\n<style scoped>\n    .dataframe tbody tr th:only-of-type {\n        vertical-align: middle;\n    }\n\n    .dataframe tbody tr th {\n        vertical-align: top;\n    }\n\n    .dataframe thead th {\n        text-align: right;\n    }\n</style>\n<table border=\"1\" class=\"dataframe\">\n  <thead>\n    <tr style=\"text-align: right;\">\n      <th></th>\n      <th>Unnamed: 0</th>\n      <th>asin</th>\n      <th>helpful</th>\n      <th>overall</th>\n      <th>reviewText</th>\n      <th>reviewTime</th>\n      <th>reviewerID</th>\n      <th>reviewerName</th>\n      <th>summary</th>\n      <th>unixReviewTime</th>\n    </tr>\n  </thead>\n  <tbody>\n    <tr>\n      <th>0</th>\n      <td>0</td>\n      <td>B000F83SZQ</td>\n      <td>[0, 0]</td>\n      <td>5</td>\n      <td>I enjoy vintage books and movies so I enjoyed ...</td>\n      <td>05 5, 2014</td>\n      <td>A1F6404F1VG29J</td>\n      <td>Avidreader</td>\n      <td>Nice vintage story</td>\n      <td>1399248000</td>\n    </tr>\n    <tr>\n      <th>1</th>\n      <td>1</td>\n      <td>B000F83SZQ</td>\n      <td>[2, 2]</td>\n      <td>4</td>\n      <td>This book is a reissue of an old one; the auth...</td>\n      <td>01 6, 2014</td>\n      <td>AN0N05A9LIJEQ</td>\n      <td>critters</td>\n      <td>Different...</td>\n      <td>1388966400</td>\n    </tr>\n    <tr>\n      <th>2</th>\n      <td>2</td>\n      <td>B000F83SZQ</td>\n      <td>[2, 2]</td>\n      <td>4</td>\n      <td>This was a fairly interesting read.  It had ol...</td>\n      <td>04 4, 2014</td>\n      <td>A795DMNCJILA6</td>\n      <td>dot</td>\n      <td>Oldie</td>\n      <td>1396569600</td>\n    </tr>\n    <tr>\n      <th>3</th>\n      <td>3</td>\n      <td>B000F83SZQ</td>\n      <td>[1, 1]</td>\n      <td>5</td>\n      <td>I'd never read any of the Amy Brewster mysteri...</td>\n      <td>02 19, 2014</td>\n      <td>A1FV0SX13TWVXQ</td>\n      <td>Elaine H. Turley \"Montana Songbird\"</td>\n      <td>I really liked it.</td>\n      <td>1392768000</td>\n    </tr>\n    <tr>\n      <th>4</th>\n      <td>4</td>\n      <td>B000F83SZQ</td>\n      <td>[0, 1]</td>\n      <td>4</td>\n      <td>If you like period pieces - clothing, lingo, y...</td>\n      <td>03 19, 2014</td>\n      <td>A3SPTOKDG7WBLN</td>\n      <td>Father Dowling Fan</td>\n      <td>Period Mystery</td>\n      <td>1395187200</td>\n    </tr>\n  </tbody>\n</table>\n</div>"
     },
     "metadata": {},
     "execution_count": 3
    }
   ],
   "source": [
    "df = pd.read_csv(\"kindle_reviews.csv\")\n",
    "df[\"reviewText\"] = df[\"reviewText\"].astype(str)\n",
    "df.head()"
   ]
  },
  {
   "cell_type": "code",
   "execution_count": 4,
   "metadata": {},
   "outputs": [],
   "source": [
    "del df['Unnamed: 0']\n",
    "del df['asin']\n",
    "del df['helpful']\n",
    "del df['reviewTime']\n",
    "del df['reviewerID']\n",
    "del df['reviewerName']\n",
    "del df['unixReviewTime']\n",
    "del df['summary']\n"
   ]
  },
  {
   "cell_type": "code",
   "execution_count": 5,
   "metadata": {},
   "outputs": [
    {
     "output_type": "execute_result",
     "data": {
      "text/plain": [
       "   overall                                         reviewText\n",
       "0        5  I enjoy vintage books and movies so I enjoyed ...\n",
       "1        4  This book is a reissue of an old one; the auth...\n",
       "2        4  This was a fairly interesting read.  It had ol...\n",
       "3        5  I'd never read any of the Amy Brewster mysteri...\n",
       "4        4  If you like period pieces - clothing, lingo, y..."
      ],
      "text/html": "<div>\n<style scoped>\n    .dataframe tbody tr th:only-of-type {\n        vertical-align: middle;\n    }\n\n    .dataframe tbody tr th {\n        vertical-align: top;\n    }\n\n    .dataframe thead th {\n        text-align: right;\n    }\n</style>\n<table border=\"1\" class=\"dataframe\">\n  <thead>\n    <tr style=\"text-align: right;\">\n      <th></th>\n      <th>overall</th>\n      <th>reviewText</th>\n    </tr>\n  </thead>\n  <tbody>\n    <tr>\n      <th>0</th>\n      <td>5</td>\n      <td>I enjoy vintage books and movies so I enjoyed ...</td>\n    </tr>\n    <tr>\n      <th>1</th>\n      <td>4</td>\n      <td>This book is a reissue of an old one; the auth...</td>\n    </tr>\n    <tr>\n      <th>2</th>\n      <td>4</td>\n      <td>This was a fairly interesting read.  It had ol...</td>\n    </tr>\n    <tr>\n      <th>3</th>\n      <td>5</td>\n      <td>I'd never read any of the Amy Brewster mysteri...</td>\n    </tr>\n    <tr>\n      <th>4</th>\n      <td>4</td>\n      <td>If you like period pieces - clothing, lingo, y...</td>\n    </tr>\n  </tbody>\n</table>\n</div>"
     },
     "metadata": {},
     "execution_count": 5
    }
   ],
   "source": [
    "df.head()"
   ]
  },
  {
   "cell_type": "code",
   "execution_count": 6,
   "metadata": {},
   "outputs": [
    {
     "output_type": "execute_result",
     "data": {
      "text/plain": [
       "5    575264\n",
       "4    254013\n",
       "3     96194\n",
       "2     34130\n",
       "1     23018\n",
       "Name: overall, dtype: int64"
      ]
     },
     "metadata": {},
     "execution_count": 6
    }
   ],
   "source": [
    "df.overall.value_counts()"
   ]
  },
  {
   "cell_type": "code",
   "execution_count": 7,
   "metadata": {},
   "outputs": [],
   "source": [
    "def review_sentiment(rating):   \n",
    "     if(rating == '1' or rating == '2' or rating == '3'== 1 or rating == 2 or rating == 3):\n",
    "        return \"0\"\n",
    "     else:\n",
    "        return \"1\""
   ]
  },
  {
   "cell_type": "code",
   "execution_count": 8,
   "metadata": {},
   "outputs": [],
   "source": [
    "df.overall = df.overall.apply(review_sentiment)"
   ]
  },
  {
   "cell_type": "code",
   "execution_count": 9,
   "metadata": {},
   "outputs": [
    {
     "output_type": "stream",
     "name": "stdout",
     "text": [
      "pozítívak overall       852295\nreviewText    852295\ndtype: int64\nnegatívak overall       130324\nreviewText    130324\ndtype: int64\n"
     ]
    }
   ],
   "source": [
    "print(\"pozítívak\", df[df[\"overall\"] == \"1\"].count())\n",
    "print(\"negatívak\", df[df[\"overall\"] == \"0\"].count())"
   ]
  },
  {
   "source": [
    "# Train, validation és test adathalmazok létrehozása"
   ],
   "cell_type": "markdown",
   "metadata": {}
  },
  {
   "cell_type": "code",
   "execution_count": 10,
   "metadata": {},
   "outputs": [
    {
     "output_type": "stream",
     "name": "stdout",
     "text": [
      "982619\n294785\n98262\n"
     ]
    }
   ],
   "source": [
    "len_df = len(df)\n",
    "print(len_df)\n",
    "\n",
    "len_train = int(round(len_df * 0.6))\n",
    "len_val_test = (len_df - len_train) // 4\n",
    "len_train = len_train // 2\n",
    "\n",
    "print(len_train)\n",
    "print(len_val_test)"
   ]
  },
  {
   "cell_type": "code",
   "execution_count": 11,
   "metadata": {},
   "outputs": [],
   "source": [
    "df_0 = df.loc[df['overall'] == '0'].copy()\n",
    "df_1 = df.loc[df['overall'] == '1'].copy()\n",
    "\n",
    "df_0_train = df_0[:len_train].copy()\n",
    "df_1_train = df_1[:len_train].copy()\n",
    "\n",
    "df_0_val = df_0[len_train:len_train+len_val_test].copy()\n",
    "df_1_val = df_1[len_train:len_train+len_val_test].copy()\n",
    "\n",
    "df_0_test = df_0[len_train+len_val_test:].copy()\n",
    "df_1_test = df_1[len_train+len_val_test:].copy()"
   ]
  },
  {
   "cell_type": "code",
   "execution_count": 12,
   "metadata": {},
   "outputs": [],
   "source": [
    "df_train = pd.concat([df_0_train, df_1_train])\n",
    "df_train = df_train.sample(frac=1)\n",
    "#df_train.hist()"
   ]
  },
  {
   "cell_type": "code",
   "execution_count": 13,
   "metadata": {},
   "outputs": [],
   "source": [
    "df_val = pd.concat([df_0_val, df_1_val])\n",
    "df_val = df_val.sample(frac=1)\n",
    "#df_val.hist()"
   ]
  },
  {
   "cell_type": "code",
   "execution_count": 14,
   "metadata": {},
   "outputs": [],
   "source": [
    "df_test = pd.concat([df_0_test, df_1_test])\n",
    "df_test = df_test.sample(frac=1)\n",
    "#df_test.hist()"
   ]
  },
  {
   "cell_type": "code",
   "execution_count": 15,
   "metadata": {},
   "outputs": [
    {
     "output_type": "execute_result",
     "data": {
      "text/plain": [
       "   overall                                         reviewText\n",
       "0        1  Totally unfair! I lost three nights sleep read...\n",
       "1        0  It was O K if I remember rightly. By the time ...\n",
       "2        1  I have read 2 of the private pleasure series a...\n",
       "3        0  I really wish I enjoyed The Reluctant Bride  m...\n",
       "4        1  Anna survived not one but two really horrible ..."
      ],
      "text/html": "<div>\n<style scoped>\n    .dataframe tbody tr th:only-of-type {\n        vertical-align: middle;\n    }\n\n    .dataframe tbody tr th {\n        vertical-align: top;\n    }\n\n    .dataframe thead th {\n        text-align: right;\n    }\n</style>\n<table border=\"1\" class=\"dataframe\">\n  <thead>\n    <tr style=\"text-align: right;\">\n      <th></th>\n      <th>overall</th>\n      <th>reviewText</th>\n    </tr>\n  </thead>\n  <tbody>\n    <tr>\n      <th>0</th>\n      <td>1</td>\n      <td>Totally unfair! I lost three nights sleep read...</td>\n    </tr>\n    <tr>\n      <th>1</th>\n      <td>0</td>\n      <td>It was O K if I remember rightly. By the time ...</td>\n    </tr>\n    <tr>\n      <th>2</th>\n      <td>1</td>\n      <td>I have read 2 of the private pleasure series a...</td>\n    </tr>\n    <tr>\n      <th>3</th>\n      <td>0</td>\n      <td>I really wish I enjoyed The Reluctant Bride  m...</td>\n    </tr>\n    <tr>\n      <th>4</th>\n      <td>1</td>\n      <td>Anna survived not one but two really horrible ...</td>\n    </tr>\n  </tbody>\n</table>\n</div>"
     },
     "metadata": {},
     "execution_count": 15
    }
   ],
   "source": [
    "import json\n",
    "\n",
    "train = \"kindle_reviews_train.json\"\n",
    "df_train.to_json(train, orient=\"records\")\n",
    "df_readed_train = pd.read_json(train, orient='records')\n",
    "df_readed_train.head()"
   ]
  },
  {
   "cell_type": "code",
   "execution_count": 16,
   "metadata": {},
   "outputs": [
    {
     "output_type": "execute_result",
     "data": {
      "text/plain": [
       "   overall                                         reviewText\n",
       "0        1  The Ultimate Guide to Keeping Crayfish as Aqua...\n",
       "1        1  I thought this was a fine overview of acupunct...\n",
       "2        1  April Angel pens \"Stranded Temptation\" in a we...\n",
       "3        1  Very good guidebook to the kindle fire.  I lov...\n",
       "4        1  I fell in love with Scout and Lucian and even ..."
      ],
      "text/html": "<div>\n<style scoped>\n    .dataframe tbody tr th:only-of-type {\n        vertical-align: middle;\n    }\n\n    .dataframe tbody tr th {\n        vertical-align: top;\n    }\n\n    .dataframe thead th {\n        text-align: right;\n    }\n</style>\n<table border=\"1\" class=\"dataframe\">\n  <thead>\n    <tr style=\"text-align: right;\">\n      <th></th>\n      <th>overall</th>\n      <th>reviewText</th>\n    </tr>\n  </thead>\n  <tbody>\n    <tr>\n      <th>0</th>\n      <td>1</td>\n      <td>The Ultimate Guide to Keeping Crayfish as Aqua...</td>\n    </tr>\n    <tr>\n      <th>1</th>\n      <td>1</td>\n      <td>I thought this was a fine overview of acupunct...</td>\n    </tr>\n    <tr>\n      <th>2</th>\n      <td>1</td>\n      <td>April Angel pens \"Stranded Temptation\" in a we...</td>\n    </tr>\n    <tr>\n      <th>3</th>\n      <td>1</td>\n      <td>Very good guidebook to the kindle fire.  I lov...</td>\n    </tr>\n    <tr>\n      <th>4</th>\n      <td>1</td>\n      <td>I fell in love with Scout and Lucian and even ...</td>\n    </tr>\n  </tbody>\n</table>\n</div>"
     },
     "metadata": {},
     "execution_count": 16
    }
   ],
   "source": [
    "val = \"kindle_reviews_val.json\"\n",
    "df_val.to_json(val, orient=\"records\")\n",
    "df_readed_val = pd.read_json(val, orient='records')\n",
    "df_readed_val.head()"
   ]
  },
  {
   "cell_type": "code",
   "execution_count": 17,
   "metadata": {},
   "outputs": [
    {
     "output_type": "execute_result",
     "data": {
      "text/plain": [
       "   overall                                         reviewText\n",
       "0        1  I REALLY ENJOYED THIS BOOK ,IT WELL WRITTEN AN...\n",
       "1        1  This was one of the first books in this genre ...\n",
       "2        1  *Previously Posted on Goodreads*\"Holy discover...\n",
       "3        1  Good info with valid references, and solid adv...\n",
       "4        1  Jeffrey Powell did a good job of describing AD..."
      ],
      "text/html": "<div>\n<style scoped>\n    .dataframe tbody tr th:only-of-type {\n        vertical-align: middle;\n    }\n\n    .dataframe tbody tr th {\n        vertical-align: top;\n    }\n\n    .dataframe thead th {\n        text-align: right;\n    }\n</style>\n<table border=\"1\" class=\"dataframe\">\n  <thead>\n    <tr style=\"text-align: right;\">\n      <th></th>\n      <th>overall</th>\n      <th>reviewText</th>\n    </tr>\n  </thead>\n  <tbody>\n    <tr>\n      <th>0</th>\n      <td>1</td>\n      <td>I REALLY ENJOYED THIS BOOK ,IT WELL WRITTEN AN...</td>\n    </tr>\n    <tr>\n      <th>1</th>\n      <td>1</td>\n      <td>This was one of the first books in this genre ...</td>\n    </tr>\n    <tr>\n      <th>2</th>\n      <td>1</td>\n      <td>*Previously Posted on Goodreads*\"Holy discover...</td>\n    </tr>\n    <tr>\n      <th>3</th>\n      <td>1</td>\n      <td>Good info with valid references, and solid adv...</td>\n    </tr>\n    <tr>\n      <th>4</th>\n      <td>1</td>\n      <td>Jeffrey Powell did a good job of describing AD...</td>\n    </tr>\n  </tbody>\n</table>\n</div>"
     },
     "metadata": {},
     "execution_count": 17
    }
   ],
   "source": [
    "test = \"kindle_reviews_test.json\"\n",
    "df_test.to_json(test, orient=\"records\")\n",
    "df_readed_test = pd.read_json(test, orient='records')\n",
    "df_readed_test.head()"
   ]
  },
  {
   "source": [
    "# Stop words-ök kiszedése, és tokenizáció"
   ],
   "cell_type": "markdown",
   "metadata": {}
  },
  {
   "cell_type": "code",
   "execution_count": 18,
   "metadata": {},
   "outputs": [],
   "source": [
    "##from nltk.stem.snowball import SnowballStemmer\n",
    "\n",
    "#stemmer = SnowballStemmer('english')\n",
    "#print(df_test.head())"
   ]
  },
  {
   "cell_type": "code",
   "execution_count": 19,
   "metadata": {},
   "outputs": [],
   "source": [
    "#df_test = df_test.apply(stemmer.stem)\n",
    "#df_val = df_val.apply(stemmer.stem)\n",
    "#df_train = df_train.apply(stemmer.stem)\n"
   ]
  },
  {
   "cell_type": "code",
   "execution_count": 20,
   "metadata": {},
   "outputs": [
    {
     "output_type": "stream",
     "name": "stdout",
     "text": [
      "Requirement already satisfied: nltk in c:\\python39\\lib\\site-packages (3.6.2)\nRequirement already satisfied: joblib in c:\\python39\\lib\\site-packages (from nltk) (1.0.1)\nRequirement already satisfied: tqdm in c:\\python39\\lib\\site-packages (from nltk) (4.60.0)\nRequirement already satisfied: regex in c:\\python39\\lib\\site-packages (from nltk) (2021.4.4)\nRequirement already satisfied: click in c:\\python39\\lib\\site-packages (from nltk) (7.1.2)\nNote: you may need to restart the kernel to use updated packages.\n"
     ]
    }
   ],
   "source": [
    "pip install nltk"
   ]
  },
  {
   "cell_type": "code",
   "execution_count": 21,
   "metadata": {},
   "outputs": [
    {
     "output_type": "stream",
     "name": "stderr",
     "text": [
      "[nltk_data] Downloading package stopwords to\n[nltk_data]     C:\\Users\\udvar\\AppData\\Roaming\\nltk_data...\n[nltk_data]   Package stopwords is already up-to-date!\n"
     ]
    },
    {
     "output_type": "execute_result",
     "data": {
      "text/plain": [
       "True"
      ]
     },
     "metadata": {},
     "execution_count": 21
    }
   ],
   "source": [
    "import nltk\n",
    "\n",
    "nltk.download(\"stopwords\")"
   ]
  },
  {
   "cell_type": "code",
   "execution_count": 22,
   "metadata": {},
   "outputs": [],
   "source": [
    "from nltk.corpus import stopwords\n",
    "import os\n",
    "import string \n",
    "stop = set(stopwords.words('english'))\n",
    "punctuation = list(string.punctuation)\n",
    "stop.update(punctuation)"
   ]
  },
  {
   "cell_type": "code",
   "execution_count": 23,
   "metadata": {},
   "outputs": [
    {
     "output_type": "stream",
     "name": "stdout",
     "text": [
      "{'but', 'himself', 'until', '}', 'out', 'doing', 'hers', 're', 'ours', \"needn't\", 'whom', '^', 'yourself', 'hasn', \"you're\", 'your', 's', '&', 'own', 'these', 'itself', 'those', 'shan', \"'\", 'there', 'couldn', 'where', 'same', 'now', 'been', 'most', 'i', 'this', 'then', 'weren', 'from', 've', 'off', \"don't\", 'or', 'and', 'about', 'some', \"hadn't\", 'herself', \"isn't\", 'her', 'why', \"won't\", 'during', 'once', 'by', '=', 'on', \"she's\", 'shouldn', \"mightn't\", \"weren't\", 'at', 'wasn', 'his', 'do', 'what', 'only', '\\\\', 'am', 'being', 'nor', \"wouldn't\", 'does', \"couldn't\", 'no', \"it's\", '>', 'him', 'my', 'just', 'before', 'mustn', 'under', ']', 'can', ';', 'hadn', \"doesn't\", \"didn't\", 'such', '{', \"shouldn't\", 'through', 'aren', 'myself', 'won', '~', '|', 'when', 'ain', 'so', 'over', 'were', '*', 'below', '$', 'it', 'not', 'as', 'after', 'ma', ':', 'm', '.', \"that'll\", 'd', 'them', \"you'd\", 'o', 'if', 'how', 'a', \"aren't\", 'for', \"you'll\", 'will', 'don', ')', 't', 'than', '%', 'into', '?', 'any', '#', 'themselves', 'they', 'that', 'because', 'to', 'our', 'she', \"wasn't\", '`', 'each', '@', 'all', '_', 'had', 'he', 'here', 'further', 'other', 'are', 'very', 'too', 'both', 'isn', 'yourselves', '/', 'more', 'of', 'ourselves', 'which', 'again', 'didn', 'haven', \"mustn't\", 'yours', 'll', 'doesn', 'its', 'with', 'above', 'who', '[', 'is', 'having', 'mightn', 'wouldn', '<', '+', 'few', 'did', 'down', 'be', '\"', 'an', '!', \"you've\", 'between', 'should', 'y', 'up', 'while', ',', 'theirs', '(', 'their', 'against', 'we', 'was', 'me', \"hasn't\", \"should've\", 'needn', \"haven't\", 'have', '-', \"shan't\", 'the', 'you', 'in', 'has'}\n"
     ]
    }
   ],
   "source": [
    "print(stop)"
   ]
  },
  {
   "cell_type": "code",
   "execution_count": 24,
   "metadata": {},
   "outputs": [],
   "source": [
    "from nltk.tokenize import word_tokenize "
   ]
  },
  {
   "cell_type": "code",
   "execution_count": 25,
   "metadata": {},
   "outputs": [
    {
     "output_type": "execute_result",
     "data": {
      "text/plain": [
       "       overall                                         reviewText\n",
       "223125       1  Totally unfair! I lost three nights sleep read...\n",
       "573304       0  It was O K if I remember rightly. By the time ...\n",
       "165684       1  I have read 2 of the private pleasure series a...\n",
       "919763       0  I really wish I enjoyed The Reluctant Bride  m...\n",
       "40118        1  Anna survived not one but two really horrible ..."
      ],
      "text/html": "<div>\n<style scoped>\n    .dataframe tbody tr th:only-of-type {\n        vertical-align: middle;\n    }\n\n    .dataframe tbody tr th {\n        vertical-align: top;\n    }\n\n    .dataframe thead th {\n        text-align: right;\n    }\n</style>\n<table border=\"1\" class=\"dataframe\">\n  <thead>\n    <tr style=\"text-align: right;\">\n      <th></th>\n      <th>overall</th>\n      <th>reviewText</th>\n    </tr>\n  </thead>\n  <tbody>\n    <tr>\n      <th>223125</th>\n      <td>1</td>\n      <td>Totally unfair! I lost three nights sleep read...</td>\n    </tr>\n    <tr>\n      <th>573304</th>\n      <td>0</td>\n      <td>It was O K if I remember rightly. By the time ...</td>\n    </tr>\n    <tr>\n      <th>165684</th>\n      <td>1</td>\n      <td>I have read 2 of the private pleasure series a...</td>\n    </tr>\n    <tr>\n      <th>919763</th>\n      <td>0</td>\n      <td>I really wish I enjoyed The Reluctant Bride  m...</td>\n    </tr>\n    <tr>\n      <th>40118</th>\n      <td>1</td>\n      <td>Anna survived not one but two really horrible ...</td>\n    </tr>\n  </tbody>\n</table>\n</div>"
     },
     "metadata": {},
     "execution_count": 25
    }
   ],
   "source": [
    "df_train.head()"
   ]
  },
  {
   "cell_type": "code",
   "execution_count": 26,
   "metadata": {},
   "outputs": [
    {
     "output_type": "stream",
     "name": "stderr",
     "text": [
      "[nltk_data] Downloading package punkt to\n",
      "[nltk_data]     C:\\Users\\udvar\\AppData\\Roaming\\nltk_data...\n",
      "[nltk_data]   Package punkt is already up-to-date!\n"
     ]
    },
    {
     "output_type": "execute_result",
     "data": {
      "text/plain": [
       "223125    [totally, unfair, !, i, lost, three, nights, s...\n",
       "573304    [it, was, o, k, if, i, remember, rightly, ., b...\n",
       "165684    [i, have, read, 2, of, the, private, pleasure,...\n",
       "919763    [i, really, wish, i, enjoyed, the, reluctant, ...\n",
       "40118     [anna, survived, not, one, but, two, really, h...\n",
       "Name: reviewText, dtype: object"
      ]
     },
     "metadata": {},
     "execution_count": 26
    }
   ],
   "source": [
    "nltk.download('punkt')\n",
    "\n",
    "tokenized_reviews = df_train[\"reviewText\"].apply(lambda review_text: word_tokenize(review_text.lower()))\n",
    "\n",
    "tokenized_reviews.head()"
   ]
  },
  {
   "cell_type": "code",
   "execution_count": 27,
   "metadata": {},
   "outputs": [
    {
     "output_type": "execute_result",
     "data": {
      "text/plain": [
       "223125    [totally, unfair, !, i, lost, three, nights, s...\n",
       "573304    [it, was, o, k, if, i, remember, rightly, ., b...\n",
       "165684    [i, have, read, 2, of, the, private, pleasure,...\n",
       "919763    [i, really, wish, i, enjoyed, the, reluctant, ...\n",
       "40118     [anna, survived, not, one, but, two, really, h...\n",
       "260134    [wonderful, characters, and, a, great, story, ...\n",
       "109266    [not, very, good, ., was, really, tired, of, t...\n",
       "74395     [i, bought, this, book, based, upon, the, high...\n",
       "92175     [this, story, is, a, story, about, a, cop, and...\n",
       "302234    [this, story, reviewed, by, twolips, reviews, ...\n",
       "548981    [i, quite, enjoyed, this, book, and, felt, a, ...\n",
       "12300     [this, book, has, everything, you, need, to, e...\n",
       "98329     [a, delightful, and, funny, suspense, novel, w...\n",
       "228913    [our, review, by, literal, addiction, 's, pack...\n",
       "170977    [i, like, your, book, of, short, stories, ., g...\n",
       "469477    [i, have, to, agree, with, the, other, reviewe...\n",
       "292163    [mob, fest, '29, :, the, true, story, about, t...\n",
       "103239    [i, really, enjoyed, this, gentle, book, of, t...\n",
       "155963    [so, exciting, to, read, my, husband, 's, stor...\n",
       "226749    [this, book, is, definitely, what, i, would, c...\n",
       "255087    [dr., danica, kent, ,, m.d., ,, had, a, crush,...\n",
       "154236    [terri, reid, is, a, writer, that, has, a, nat...\n",
       "545102    [do, n't, get, this, unless, it, is, free, !, ...\n",
       "220333    [growing, info, ,, recipe, info, for, all, ., ...\n",
       "199987    [this, is, a, review, for, both, books, of, th...\n",
       "41373     [``, the, secret, apocalypse, '', is, a, fast,...\n",
       "58327     [i, liked, the, book, but, i, was, angry, at, ...\n",
       "45528     [the, story, and, characters, were, slightly, ...\n",
       "35694     [great, series, of, stories, that, are, hard, ...\n",
       "39550     [dead, drop, is, a, tale, of, vampire, hunters...\n",
       "Name: reviewText, dtype: object"
      ]
     },
     "metadata": {},
     "execution_count": 27
    }
   ],
   "source": [
    "tokenized_reviews.head(n = 30)"
   ]
  },
  {
   "cell_type": "code",
   "execution_count": null,
   "metadata": {},
   "outputs": [],
   "source": []
  }
 ]
}